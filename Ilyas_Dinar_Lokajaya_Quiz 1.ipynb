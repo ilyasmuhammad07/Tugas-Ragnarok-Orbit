{
 "cells": [
  {
   "cell_type": "markdown",
   "id": "92b827be",
   "metadata": {},
   "source": [
    "# SESI PAGI\n",
    "\n",
    "Soal dan Jawaban Quiz:"
   ]
  },
  {
   "cell_type": "markdown",
   "id": "8056b2b0",
   "metadata": {},
   "source": [
    "### 1. Apa itu OOP dan cobalah buat 2 Implementasi Konsep OOP menggunakkan python!\n",
    "\n",
    "Object Oriented Programming(OOP)atau pradigma pemrograman berdasarkan konsep \"objek\", yang dapat berisi data dalam bentuk field atau sbg atribut serta kode dalam bentuk fungsi/prosedur atau dikenal sebagai method."
   ]
  },
  {
   "cell_type": "markdown",
   "id": "dbc62037",
   "metadata": {},
   "source": [
    "#### Encapsulation"
   ]
  },
  {
   "cell_type": "code",
   "execution_count": 1,
   "id": "6d61800f",
   "metadata": {},
   "outputs": [
    {
     "name": "stdout",
     "output_type": "stream",
     "text": [
      "Nama: Ajang || Usia: 21 || Kelamin: Lanang\n",
      "\n",
      "ngantuk banget!!\n"
     ]
    }
   ],
   "source": [
    "class Manusia(object):\n",
    "    \n",
    "    namanya = \"\"\n",
    "    def __init__(self, name, umur, gender):\n",
    "        self.name = name\n",
    "        self.umur = umur\n",
    "        self.gender = gender\n",
    "        Manusia.namanya = name\n",
    "\n",
    "    def jam(self, durasi):\n",
    "        if durasi>=10 :      # angka 10 menunjukkan jam 10\n",
    "            print(\"\")\n",
    "            print(\"ngantuk banget!!\")\n",
    "        else:\n",
    "            print(\"\")\n",
    "            print(\"belom nih, masih seger!\")\n",
    "\n",
    "    def info_maszzeh(self):\n",
    "        print(f\"Nama: {self.name} || Usia: {self.umur} || Kelamin: {self.gender}\")\n",
    "\n",
    "\n",
    "human = Manusia(\"Ajang\",21, \"Lanang\")\n",
    "\n",
    "human.info_maszzeh()\n",
    "human.jam(10) # angka 10 menunjukkan jam 10 yang berarrti 10 >= 10 = True"
   ]
  },
  {
   "cell_type": "markdown",
   "id": "17197f61",
   "metadata": {},
   "source": [
    "#### Inheritence"
   ]
  },
  {
   "cell_type": "code",
   "execution_count": 5,
   "id": "04930e02",
   "metadata": {},
   "outputs": [
    {
     "name": "stdout",
     "output_type": "stream",
     "text": [
      "nama       : Ajeng\n",
      "usia       : 56\n",
      "jenis setan: Kuntilanak\n",
      "Kelamin    : Wedok\n",
      "\n",
      "\n",
      "udah jam 12 belum ? belum nih, yauda sabarin!\n"
     ]
    }
   ],
   "source": [
    "class Makhluk_Halus(object):\n",
    "    def __init__(selfie, namanya, umurnya, jenisnya, kelaminnya):\n",
    "        selfie.namanya = namanya\n",
    "        selfie.umurnya = umurnya\n",
    "        selfie.jenisnya = jenisnya\n",
    "        selfie.kelaminnya = kelaminnya\n",
    "\n",
    "    def Nakutin(selfie, jamnya):\n",
    "            if jamnya>=12 :       # udah tidur di atas jam 12 belum?\n",
    "                print(\"udah jam 12 belum ? Udah nih, Kuy Beraksi!\")\n",
    "            else:\n",
    "                print(\"\")\n",
    "                print(\"udah jam 12 belum ? belum nih, yauda sabarin!\")\n",
    "\n",
    "    def infoin_dong(selfie):\n",
    "        print(\"nama       :\",selfie.namanya)\n",
    "        print(\"usia       :\",selfie.umurnya)\n",
    "        print(\"jenis setan:\",selfie.jenisnya)\n",
    "        print(\"Kelamin    :\",selfie.kelaminnya)\n",
    "        print(\"\")\n",
    "\n",
    "\n",
    "hahaha =  Makhluk_Halus(\"Ajeng\", 56, \"Kuntilanak\", \"Wedok\")\n",
    "\n",
    "hahaha.infoin_dong()\n",
    "hahaha.Nakutin(11)"
   ]
  },
  {
   "cell_type": "markdown",
   "id": "77f37cbc",
   "metadata": {},
   "source": [
    "## 2. Sebutkan dan jelaskan 2 jenis modules yang ada dipython\n",
    "\n",
    "1. Class adalah sebuah blueprint (cetakan) dari objek (atau instance) yang ingin kita buat. Class adalah cetakannya atau definisinya\n",
    "2. Function adalah blok kode teroganisir yang dapat digunakan kembali untk melakukan sebuah tindakan/action."
   ]
  },
  {
   "cell_type": "markdown",
   "id": "695822fc",
   "metadata": {},
   "source": [
    "# 3. \n"
   ]
  },
  {
   "cell_type": "code",
   "execution_count": 2,
   "id": "02bc1da3",
   "metadata": {},
   "outputs": [],
   "source": [
    "import math "
   ]
  },
  {
   "cell_type": "code",
   "execution_count": 3,
   "id": "c0e350b4",
   "metadata": {},
   "outputs": [
    {
     "name": "stdout",
     "output_type": "stream",
     "text": [
      "13.228756555322953\n",
      "2.16794833886788\n",
      "0.5773502691896257\n",
      "4.0\n"
     ]
    }
   ],
   "source": [
    "print(math.sqrt(175))\n",
    "print(math.sqrt(4.7))\n",
    "print(math.sqrt(1/3))\n",
    "print(math.log(81, 3))"
   ]
  },
  {
   "cell_type": "markdown",
   "id": "ed7445d3",
   "metadata": {},
   "source": [
    "## 4. Apa itu custom exception handling dan berikan 1 contoh implementasinya\n",
    "\n",
    "Jawaban:\n",
    "\n",
    "Mekanisme yang paling diperlukan dalam menangani error yang terjadi pada saat runtime (program berjalan) atau yang lebih dikenal dengan sebutan runtime error."
   ]
  },
  {
   "cell_type": "code",
   "execution_count": 81,
   "id": "c9a9ef93",
   "metadata": {},
   "outputs": [
    {
     "name": "stdout",
     "output_type": "stream",
     "text": [
      "NameError: name 'ans' is not defined\n"
     ]
    }
   ],
   "source": [
    "try:\n",
    "    print (ans)\n",
    "except NameError:  \n",
    "    print (\"NameError: name 'ans' is not defined\")\n",
    "else:  \n",
    "    print (\"Success, no error!\")"
   ]
  },
  {
   "cell_type": "markdown",
   "id": "88fc2fa5",
   "metadata": {},
   "source": [
    "# Artificial Intelligence"
   ]
  },
  {
   "cell_type": "markdown",
   "id": "fb638345",
   "metadata": {},
   "source": [
    "### 1. Apa perbedaan dari structured dan unstructured data dan sebutkan Tiga (3) sumber data! \n",
    "\n",
    "Data terstruktur direpresentasikan dalam skema yang jelas sehingga mudah untuk dianalisa maupun diintegrasikan dengan data terstruktur lainnya.\n",
    "Sedangakan data tidak terstruktur direpresentasikan dalam berbagai bentuk sehingga sangat sulit untuk dianalisis maupun diintegrasikan dengan sumber data lain.\n",
    "\n",
    "Sumber data yaitu sensus penduduk, survey penduduk, dan registrasi penduduk."
   ]
  },
  {
   "cell_type": "markdown",
   "id": "9c5f2b4a",
   "metadata": {},
   "source": [
    "### 2. Jelaskan perbedaan AI, ML, dan deep learning!\n",
    "\n",
    "1. Artificial Intelligence is collection of algorithms used to build\n",
    "2. Machine Learning is Algorithms which use DATA to build\n",
    "3. Deep Learning is Automated feature engineering"
   ]
  },
  {
   "cell_type": "markdown",
   "id": "7f0330ea",
   "metadata": {},
   "source": [
    "### 3. Apa perbedaan ML, dengan traditional Software?\n",
    "\n",
    "1. Machine Learning adalah Mesin/program yang dirancang untuk bekerja di masadepan contohnya robot atau hal-hal yang mempermudah manusia dalam melakukan pekerjaan\n",
    "2. Traditional Software adalah proses pengembangan perangkat lunak yang digunakan untuk merancang perangkat lunak yang rumit. Ini pada dasarnya digunakan ketika perangkat lunak cukup sensitif dan rumit"
   ]
  },
  {
   "cell_type": "markdown",
   "id": "49ab888c",
   "metadata": {},
   "source": [
    "###  4. Sebutkan 3 contoh aplikasi Machine Learning di sektor smart city dan agriculture!\n",
    "\n",
    "1. Prediksi Hasil Panen\n",
    "2. Alodokter\n",
    "3. Keamanan Pangan dan Pencegahan Hama\n",
    "4. Manajemen Operasional"
   ]
  },
  {
   "cell_type": "markdown",
   "id": "74d26809",
   "metadata": {},
   "source": [
    "# Maths for AI\n"
   ]
  },
  {
   "cell_type": "markdown",
   "id": "12360c9e",
   "metadata": {},
   "source": [
    "### 1. Mengapa ilmu math penting ketika mempejari AI?\n",
    "\n",
    "Karena untuk melatih kemampuan logika dan bisa mengembangkan logika baru di AI.\n",
    "\n",
    "Machine Learning adalah Rebranding dari Matematika"
   ]
  },
  {
   "cell_type": "markdown",
   "id": "fe82af58",
   "metadata": {},
   "source": [
    "### 2. Jelaskan perbedaan vektor dan skalar!\n",
    "\n",
    "Vektor adalah besaran yang memiliki nilai dan arah, sedangkan skalar adalah konstanta atau besaran yang memiliki nilai \n",
    "\n",
    "Dalam ilmu data, vektor adalah kumpulan nilai dari variable tertentu, dan vektor adalah berdimensi sama dapat dioperasikan"
   ]
  },
  {
   "cell_type": "markdown",
   "id": "5c84418a",
   "metadata": {},
   "source": [
    "### 3. Apa perbedaan dari Jarak euclidean dan manhattan?\n",
    "\n",
    "Euclidean distance merupakan jarak terpendek antara dua titik.Umumnya digunakan saat menghitung jarak antara 2 baris data yang memiliki nilaia numerik.\n",
    "\n",
    "Jarak Manhattan merupakan jumlah perbedaan mutlak antara titik disemua dimensi"
   ]
  },
  {
   "cell_type": "markdown",
   "id": "8905f6e2",
   "metadata": {},
   "source": [
    "### 4. Apa kegunaan matriks dalam ilmu math ketika menerapkan AI?\n",
    "\n",
    "Kegunaannya untuk mempermudah mengetahui dalam sebuah nilai pada kolom atau baris ketika kita ingin menerapkan pada AI atau data-data lainnya."
   ]
  },
  {
   "cell_type": "markdown",
   "id": "b23a9be5",
   "metadata": {},
   "source": [
    "# Machine Learning"
   ]
  },
  {
   "cell_type": "markdown",
   "id": "d038c48e",
   "metadata": {},
   "source": [
    "### 1. Jelaskan perbedaan supervised dan unsupervised learning dan sebutkan 2 contohnya!\n",
    "\n",
    "Supervised Learning adalah Machine Learning model yang mempelajari data dengan label atau target dimana evaluasi model tersebut akan berdasarkan target ini.\n",
    "\n",
    "Sebaliknya Unsupervised Learning adalah Machine Learning Model yang mempelajari pola data tanpa adanya target data\n",
    "\n",
    "Contohnya adalah klasifikasi dan regresi"
   ]
  },
  {
   "cell_type": "markdown",
   "id": "df39d3ef",
   "metadata": {},
   "source": [
    "### 2. Sebutkan setiap tahap yang ada di Machine Learning life cycle dan jelaskan! \n",
    "\n",
    "- Definisikan masalah kamu\n",
    "- Mengumpulkan data\n",
    "- Pilih ukuran keberhasilankamu\n",
    "- Tetapkan protokol evaluasi model kita. Hold-out validation. K-fold Validation\n",
    "- Mempersiapkan data dan menangani Missing data\n",
    "- proses belajar\n",
    "- Overfitting dan Underfitting"
   ]
  },
  {
   "cell_type": "markdown",
   "id": "e9d43fba",
   "metadata": {},
   "source": [
    "### 3. Apa perbedaan regression dengan clustering?\n",
    "\n",
    "- Regression adalah suatu teknik analisis untuk mengidentifikasi relasi atau hubungan diantara dua variabel atau lebih.\n",
    "- Clusturing adalah proses pemisahan dan pengelompokan data menurut kesamaannya."
   ]
  },
  {
   "cell_type": "markdown",
   "id": "bd745537",
   "metadata": {},
   "source": [
    "### 4. Apa itu algoritma Artificial Neural Network dan untuk apa fungsinya?\n",
    "\n",
    "Merupakan set algoritma yang berkerja seperti jaringan saraf otak manusia, dimana neuron saling terhubung satu dengan lainya, bekerja untuk memproses informasi. Tujuan utama dari ANN adalah menjadikan komputer memiliki kemampuan cognitif seperti otak manusia, memiliki kemampuan problem solving dan dapat melakukan proses pembelajaran."
   ]
  },
  {
   "cell_type": "code",
   "execution_count": null,
   "id": "5c43afa2",
   "metadata": {},
   "outputs": [],
   "source": []
  }
 ],
 "metadata": {
  "kernelspec": {
   "display_name": "Python 3 (ipykernel)",
   "language": "python",
   "name": "python3"
  },
  "language_info": {
   "codemirror_mode": {
    "name": "ipython",
    "version": 3
   },
   "file_extension": ".py",
   "mimetype": "text/x-python",
   "name": "python",
   "nbconvert_exporter": "python",
   "pygments_lexer": "ipython3",
   "version": "3.9.7"
  }
 },
 "nbformat": 4,
 "nbformat_minor": 5
}
