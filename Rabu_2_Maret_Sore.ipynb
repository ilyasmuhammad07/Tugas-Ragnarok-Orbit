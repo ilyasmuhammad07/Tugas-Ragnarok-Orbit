{
 "cells": [
  {
   "cell_type": "markdown",
   "id": "b2a0eb72",
   "metadata": {},
   "source": [
    "# Soal FGD Rabu sesi sore"
   ]
  },
  {
   "cell_type": "markdown",
   "id": "186f5b91",
   "metadata": {},
   "source": [
    "### No. 1"
   ]
  },
  {
   "cell_type": "code",
   "execution_count": 15,
   "id": "a81cc8db",
   "metadata": {},
   "outputs": [],
   "source": [
    "def method(elemns):\n",
    "    if(elemns % 2 == 0):\n",
    "        return True\n",
    "    else:\n",
    "        return False"
   ]
  },
  {
   "cell_type": "code",
   "execution_count": 25,
   "id": "d86da15b",
   "metadata": {},
   "outputs": [],
   "source": [
    "isiNya = [2,4,5,6,9,3,10,11,14,13,12,15]\n",
    "\n",
    "yas = map(method, isiNya) "
   ]
  },
  {
   "cell_type": "code",
   "execution_count": 26,
   "id": "d8b1a785",
   "metadata": {},
   "outputs": [
    {
     "name": "stdout",
     "output_type": "stream",
     "text": [
      "True\n",
      "True\n",
      "False\n",
      "True\n",
      "False\n",
      "False\n",
      "True\n",
      "False\n",
      "True\n",
      "False\n",
      "True\n",
      "False\n"
     ]
    }
   ],
   "source": [
    "for Try in yas:\n",
    "    print(Try)"
   ]
  },
  {
   "cell_type": "markdown",
   "id": "3be732f3",
   "metadata": {},
   "source": [
    "### No. 2"
   ]
  },
  {
   "cell_type": "code",
   "execution_count": 14,
   "id": "85ee9574",
   "metadata": {},
   "outputs": [
    {
     "name": "stdout",
     "output_type": "stream",
     "text": [
      "1. Soup and salad\n",
      "2. Pasta with meat sauce\n",
      "3. Chef’s special\n",
      "Which number would you like to order? 1\n",
      "One Soup and salad coming right up\n",
      "\n",
      "1. Soup and salad\n",
      "2. Pasta with meat sauce\n",
      "3. Chef’s special\n",
      "Which number would you like to order? 2\n",
      "One Pasta with meat sauce coming right up!\n",
      "\n",
      "\n",
      "1. Soup and salad\n",
      "2. Pasta with meat sauce\n",
      "3. Chef’s special\n",
      "Which number would you like to order? 3\n",
      "One Chef’s special coming right up!\n",
      "\n",
      "1. Soup and salad\n",
      "2. Pasta with meat sauce\n",
      "3. Chef’s special\n",
      "Which number would you like to order? 4\n",
      "Sorry, that is not a valid choice.\n"
     ]
    }
   ],
   "source": [
    "def menu():\n",
    "    print(\"1. Soup and salad\")\n",
    "    print(\"2. Pasta with meat sauce\")\n",
    "    print(\"3. Chef’s special\")\n",
    "\n",
    "def lanjut_2():\n",
    "    print('One Pasta with meat sauce coming right up!')\n",
    "\n",
    "def lanjut_3():\n",
    "    print('One Chef’s special coming right up!')\n",
    "while True:\n",
    "    menu()\n",
    "    pil = int(input(\"Which number would you like to order? \"))\n",
    "    if pil == 1:\n",
    "        print(\"One Soup and salad coming right up\")\n",
    "        print(\"\")\n",
    "    elif pil == 2:\n",
    "        lanjut_2()\n",
    "        print(\"\")\n",
    "        print(\"\")\n",
    "    elif pil == 3:\n",
    "        lanjut_3()\n",
    "        print(\"\")\n",
    "    else:\n",
    "        print(\"Sorry, that is not a valid choice.\")\n",
    "        break  "
   ]
  },
  {
   "cell_type": "markdown",
   "id": "276a5dfd",
   "metadata": {},
   "source": [
    "### No. 3"
   ]
  },
  {
   "cell_type": "code",
   "execution_count": 29,
   "id": "c3480f46",
   "metadata": {},
   "outputs": [
    {
     "name": "stdout",
     "output_type": "stream",
     "text": [
      "Masukkan Angka: 4\n"
     ]
    },
    {
     "data": {
      "text/plain": [
       "False"
      ]
     },
     "execution_count": 29,
     "metadata": {},
     "output_type": "execute_result"
    }
   ],
   "source": [
    "\n",
    "def rand_divis_3():\n",
    "    isi = int(input(\"Masukkan Angka: \"))\n",
    "    if(isi % 3 == 0):\n",
    "        return True\n",
    "    else:\n",
    "        return False\n",
    "rand_divis_3()"
   ]
  },
  {
   "cell_type": "markdown",
   "id": "7781551b",
   "metadata": {},
   "source": [
    "### No. 4"
   ]
  },
  {
   "cell_type": "code",
   "execution_count": 35,
   "id": "f742f7df",
   "metadata": {},
   "outputs": [
    {
     "data": {
      "text/plain": [
       "True"
      ]
     },
     "execution_count": 35,
     "metadata": {},
     "output_type": "execute_result"
    }
   ],
   "source": [
    "def hei():\n",
    "    inputan1 = 7\n",
    "    inputan2 = 21\n",
    "    if(inputan1 is not inputan2):\n",
    "        return True\n",
    "    else:\n",
    "        return False\n",
    "hei()"
   ]
  },
  {
   "cell_type": "markdown",
   "id": "8b7c82cb",
   "metadata": {},
   "source": [
    "### No. 5"
   ]
  },
  {
   "cell_type": "code",
   "execution_count": null,
   "id": "5e31c4a9",
   "metadata": {},
   "outputs": [],
   "source": [
    "def ask_ilyas():\n",
    "    name = input(\"Enter your name: \")\n",
    "    print(\"Your name is\", name)\n",
    "ask_ilyas()"
   ]
  },
  {
   "cell_type": "code",
   "execution_count": null,
   "id": "ca35232e",
   "metadata": {},
   "outputs": [],
   "source": []
  }
 ],
 "metadata": {
  "kernelspec": {
   "display_name": "Python 3 (ipykernel)",
   "language": "python",
   "name": "python3"
  },
  "language_info": {
   "codemirror_mode": {
    "name": "ipython",
    "version": 3
   },
   "file_extension": ".py",
   "mimetype": "text/x-python",
   "name": "python",
   "nbconvert_exporter": "python",
   "pygments_lexer": "ipython3",
   "version": "3.9.7"
  }
 },
 "nbformat": 4,
 "nbformat_minor": 5
}
