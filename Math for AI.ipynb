{
 "cells": [
  {
   "cell_type": "markdown",
   "id": "c645a7f1",
   "metadata": {},
   "source": [
    "# Operasi Matematika & Numpy"
   ]
  },
  {
   "cell_type": "code",
   "execution_count": 1,
   "id": "0f89fc71",
   "metadata": {},
   "outputs": [],
   "source": [
    "import numpy as np"
   ]
  },
  {
   "cell_type": "markdown",
   "id": "470c7a56",
   "metadata": {},
   "source": [
    "### Pengenalan Array"
   ]
  },
  {
   "cell_type": "code",
   "execution_count": 2,
   "id": "562bffb6",
   "metadata": {},
   "outputs": [
    {
     "name": "stdout",
     "output_type": "stream",
     "text": [
      "banyaknya entry =  4\n",
      "dimensi array =  1\n",
      "ukuran array =  (4,)\n"
     ]
    }
   ],
   "source": [
    "#1D array\n",
    "a = np.array([4, 3, 5, 7])\n",
    "print('banyaknya entry = ', a.size)\n",
    "print('dimensi array = ', a.ndim)\n",
    "print('ukuran array = ', a.shape)"
   ]
  },
  {
   "cell_type": "code",
   "execution_count": 3,
   "id": "1fb596a6",
   "metadata": {},
   "outputs": [
    {
     "data": {
      "text/plain": [
       "array([3, 5, 7])"
      ]
     },
     "execution_count": 3,
     "metadata": {},
     "output_type": "execute_result"
    }
   ],
   "source": [
    "#Slicing\n",
    "a[1:]"
   ]
  },
  {
   "cell_type": "code",
   "execution_count": 4,
   "id": "5f7d9b89",
   "metadata": {},
   "outputs": [
    {
     "name": "stdout",
     "output_type": "stream",
     "text": [
      "a[1:3] =  [3 5]\n",
      "a[:3] =  [4 3 5]\n"
     ]
    }
   ],
   "source": [
    "print('a[1:3] = ', a[1:3])\n",
    "print('a[:3] = ', a[:3])"
   ]
  },
  {
   "cell_type": "code",
   "execution_count": 5,
   "id": "e31d1a1b",
   "metadata": {},
   "outputs": [
    {
     "name": "stdout",
     "output_type": "stream",
     "text": [
      "[[1 2 3]\n",
      " [4 5 6]\n",
      " [7 8 9]]\n"
     ]
    }
   ],
   "source": [
    "#2D Array (Matriks)\n",
    "A = np.array([[1, 2, 3], [4, 5, 6], [7, 8, 9]])\n",
    "print(A)"
   ]
  },
  {
   "cell_type": "markdown",
   "id": "25c50847",
   "metadata": {},
   "source": [
    "### Latihan-2 (2D array)"
   ]
  },
  {
   "cell_type": "code",
   "execution_count": 6,
   "id": "c80b9b4b",
   "metadata": {},
   "outputs": [
    {
     "name": "stdout",
     "output_type": "stream",
     "text": [
      "banyaknya entry =  4\n",
      "dimensi array =  1\n",
      "ukuran array =  (4,)\n"
     ]
    }
   ],
   "source": [
    "b = np.array([21, 7, 20, 10])\n",
    "print('banyaknya entry = ',b.size)\n",
    "print('dimensi array = ',b.ndim)\n",
    "print('ukuran array = ',b.shape)"
   ]
  },
  {
   "cell_type": "code",
   "execution_count": 7,
   "id": "29c8d46e",
   "metadata": {},
   "outputs": [],
   "source": [
    "B = np.array([[11, 12, 13], [14, 15, 16], [17, 18, 19]])"
   ]
  },
  {
   "cell_type": "code",
   "execution_count": 8,
   "id": "aeb09d50",
   "metadata": {},
   "outputs": [
    {
     "name": "stdout",
     "output_type": "stream",
     "text": [
      "baris ke-2 =  [14 15 16]\n",
      "entry ke-2 & 3 baris ke-2 =  [15 16]\n",
      "entry pertama & 2 kolom ke-2 =  [12 15]\n"
     ]
    }
   ],
   "source": [
    "#Slicing\n",
    "print('baris ke-2 = ', B[1])\n",
    "print('entry ke-2 & 3 baris ke-2 = ', B[1, 1:])\n",
    "print('entry pertama & 2 kolom ke-2 = ', B[:2, 1])"
   ]
  },
  {
   "cell_type": "markdown",
   "id": "37927a1a",
   "metadata": {},
   "source": [
    "### Latihan-3 (Slicing)"
   ]
  },
  {
   "cell_type": "code",
   "execution_count": 9,
   "id": "a6792f6a",
   "metadata": {},
   "outputs": [
    {
     "name": "stdout",
     "output_type": "stream",
     "text": [
      "[[21  2 23]\n",
      " [24 25 26]\n",
      " [27 28 29]]\n"
     ]
    }
   ],
   "source": [
    "C = np.array([[21, 2, 23], [24, 25, 26], [27, 28, 29]])\n",
    "print(C)"
   ]
  },
  {
   "cell_type": "code",
   "execution_count": 10,
   "id": "35cae3f7",
   "metadata": {},
   "outputs": [
    {
     "name": "stdout",
     "output_type": "stream",
     "text": [
      "baris ke-3 =  [27 28 29]\n",
      "entry ke-1 & 2 baris ke-3 =  [27 28]\n",
      "entry ke-2 & 3 kolom ke-3 =  [26 29]\n"
     ]
    }
   ],
   "source": [
    "# Lengkapi kodingan berikut\n",
    "print('baris ke-3 = ',C[2])\n",
    "print('entry ke-1 & 2 baris ke-3 = ',C[2,0:-1])\n",
    "print('entry ke-2 & 3 kolom ke-3 = ',C[-2:,2])"
   ]
  },
  {
   "cell_type": "markdown",
   "id": "8e5369d6",
   "metadata": {},
   "source": [
    "output jawaban: baris ke-3 = [27 28 29]\n",
    "\n",
    "entry ke-1 & 2 baris ke-3 = [27 28]\n",
    "\n",
    "entry ke-2 & 3 kolom ke-3 = [26 29]"
   ]
  },
  {
   "cell_type": "markdown",
   "id": "1b3bc4db",
   "metadata": {},
   "source": [
    "### Operasi Matematika di Numpy"
   ]
  },
  {
   "cell_type": "code",
   "execution_count": 11,
   "id": "15244f20",
   "metadata": {},
   "outputs": [
    {
     "name": "stdout",
     "output_type": "stream",
     "text": [
      "perkalian antar entry = \n",
      "[[ 1  4  9]\n",
      " [16 25 36]\n",
      " [49 64 81]]\n"
     ]
    }
   ],
   "source": [
    "D = A*A\n",
    "print('perkalian antar entry = ')\n",
    "print(D)"
   ]
  },
  {
   "cell_type": "code",
   "execution_count": 12,
   "id": "d41b9541",
   "metadata": {},
   "outputs": [
    {
     "name": "stdout",
     "output_type": "stream",
     "text": [
      "perkalian matriks = \n",
      "[[ 30  36  42]\n",
      " [ 66  81  96]\n",
      " [102 126 150]]\n"
     ]
    }
   ],
   "source": [
    "print('perkalian matriks = ')\n",
    "print(np.matmul(A,A))"
   ]
  },
  {
   "cell_type": "markdown",
   "id": "a14f1f34",
   "metadata": {},
   "source": [
    "Bisa dilihat perbedaan perkalian antar entry dan perkalian matriks biasa?"
   ]
  },
  {
   "cell_type": "code",
   "execution_count": 13,
   "id": "52ef2c14",
   "metadata": {},
   "outputs": [
    {
     "name": "stdout",
     "output_type": "stream",
     "text": [
      "determinan matriks A =  -9.51619735392994e-16\n",
      "determinan matriks C =  -216.00000000000006\n"
     ]
    }
   ],
   "source": [
    "print('determinan matriks A = ', np.linalg.det(A))\n",
    "print('determinan matriks C = ', np.linalg.det(D))"
   ]
  },
  {
   "cell_type": "code",
   "execution_count": 14,
   "id": "75e1cbdd",
   "metadata": {},
   "outputs": [
    {
     "name": "stdout",
     "output_type": "stream",
     "text": [
      "nilai dan vektor eigen matriks A =  (array([ 1.61168440e+01, -1.11684397e+00, -3.38433605e-16]), array([[-0.23197069, -0.78583024,  0.40824829],\n",
      "       [-0.52532209, -0.08675134, -0.81649658],\n",
      "       [-0.8186735 ,  0.61232756,  0.40824829]]))\n"
     ]
    }
   ],
   "source": [
    "print('nilai dan vektor eigen matriks A = ', np.linalg.eig(A))"
   ]
  },
  {
   "cell_type": "code",
   "execution_count": 15,
   "id": "b44bdcb3",
   "metadata": {},
   "outputs": [
    {
     "name": "stdout",
     "output_type": "stream",
     "text": [
      "nilai eigen matriks A =  [ 1.61168440e+01 -1.11684397e+00 -3.38433605e-16]\n"
     ]
    }
   ],
   "source": [
    "print('nilai eigen matriks A = ', np.linalg.eig(A)[0])"
   ]
  },
  {
   "cell_type": "code",
   "execution_count": 16,
   "id": "9df382c2",
   "metadata": {},
   "outputs": [
    {
     "name": "stdout",
     "output_type": "stream",
     "text": [
      "vektor eigen matriks A =  [[-0.23197069 -0.78583024  0.40824829]\n",
      " [-0.52532209 -0.08675134 -0.81649658]\n",
      " [-0.8186735   0.61232756  0.40824829]]\n"
     ]
    }
   ],
   "source": [
    "print('vektor eigen matriks A = ', np.linalg.eig(A)[1])"
   ]
  },
  {
   "cell_type": "code",
   "execution_count": 17,
   "id": "4d04fcc3",
   "metadata": {},
   "outputs": [],
   "source": [
    "e_vec = np.linalg.eig(A)[1][:, 0]\n",
    "e_val = np.linalg.eig(A)[0][0]"
   ]
  },
  {
   "cell_type": "code",
   "execution_count": 18,
   "id": "e9d17a51",
   "metadata": {},
   "outputs": [],
   "source": [
    "e_value = e_val.real"
   ]
  },
  {
   "cell_type": "code",
   "execution_count": 19,
   "id": "8932b6f7",
   "metadata": {},
   "outputs": [
    {
     "name": "stdout",
     "output_type": "stream",
     "text": [
      "[ -3.73863537  -8.46653421 -13.19443305]\n"
     ]
    }
   ],
   "source": [
    "print(np.matmul(A, e_vec))"
   ]
  },
  {
   "cell_type": "code",
   "execution_count": 20,
   "id": "a56187b2",
   "metadata": {},
   "outputs": [
    {
     "name": "stdout",
     "output_type": "stream",
     "text": [
      "[ -3.73863537  -8.46653421 -13.19443305]\n"
     ]
    }
   ],
   "source": [
    "print(e_val*e_vec)"
   ]
  },
  {
   "cell_type": "markdown",
   "id": "dea7795e",
   "metadata": {},
   "source": [
    "### Latihan-4 (Operasi matriks)"
   ]
  },
  {
   "cell_type": "code",
   "execution_count": 21,
   "id": "008963f6",
   "metadata": {},
   "outputs": [],
   "source": [
    "A = np.array([[1, 2], [7,8]])\n",
    "B = np.array([[3, 5], [1,6]])"
   ]
  },
  {
   "cell_type": "markdown",
   "id": "dd750f5d",
   "metadata": {},
   "source": [
    "Hitunglah:\n",
    "\n",
    "1. 2*A\n",
    "2. 2+A\n",
    "3. A+B\n",
    "4. A-B\n",
    "5. determinan A\n",
    "6. invers dari B, simpan jadi matriks D\n",
    "7. transpose D\n",
    "8. nilai eigen dan vektor eigen dari A dan B"
   ]
  },
  {
   "cell_type": "code",
   "execution_count": 22,
   "id": "74132589",
   "metadata": {},
   "outputs": [],
   "source": [
    "d = np.linalg.inv(B)"
   ]
  },
  {
   "cell_type": "code",
   "execution_count": 23,
   "id": "824a9b17",
   "metadata": {},
   "outputs": [
    {
     "name": "stdout",
     "output_type": "stream",
     "text": [
      "perkalian antar entry = \n",
      "[[ 2  4]\n",
      " [14 16]]\n"
     ]
    }
   ],
   "source": [
    "d = 2*A\n",
    "print('perkalian antar entry = ')\n",
    "print(d)"
   ]
  },
  {
   "cell_type": "code",
   "execution_count": 24,
   "id": "db507cec",
   "metadata": {},
   "outputs": [
    {
     "name": "stdout",
     "output_type": "stream",
     "text": [
      "[[ 6 20]\n",
      " [14 96]]\n"
     ]
    }
   ],
   "source": [
    "print(B*d)"
   ]
  },
  {
   "cell_type": "code",
   "execution_count": 35,
   "id": "de393eb9",
   "metadata": {
    "scrolled": true
   },
   "outputs": [
    {
     "data": {
      "text/plain": [
       "(array([[3, 5],\n",
       "        [1, 6]]),\n",
       " array([[ 2,  4],\n",
       "        [14, 16]]))"
      ]
     },
     "execution_count": 35,
     "metadata": {},
     "output_type": "execute_result"
    }
   ],
   "source": [
    "B, d"
   ]
  },
  {
   "cell_type": "code",
   "execution_count": 34,
   "id": "14de284d",
   "metadata": {},
   "outputs": [
    {
     "name": "stdout",
     "output_type": "stream",
     "text": [
      "[[ 76  92]\n",
      " [ 86 100]]\n"
     ]
    }
   ],
   "source": [
    "print(np.matmul(B, d))"
   ]
  },
  {
   "cell_type": "code",
   "execution_count": 38,
   "id": "9f596c76",
   "metadata": {},
   "outputs": [
    {
     "data": {
      "text/plain": [
       "'1.20.3'"
      ]
     },
     "execution_count": 38,
     "metadata": {},
     "output_type": "execute_result"
    }
   ],
   "source": [
    "np.__version__"
   ]
  },
  {
   "cell_type": "code",
   "execution_count": 39,
   "id": "e98edce3",
   "metadata": {},
   "outputs": [],
   "source": [
    "import math"
   ]
  },
  {
   "cell_type": "code",
   "execution_count": 40,
   "id": "49833608",
   "metadata": {},
   "outputs": [
    {
     "data": {
      "text/plain": [
       "2.0"
      ]
     },
     "execution_count": 40,
     "metadata": {},
     "output_type": "execute_result"
    }
   ],
   "source": [
    "math.sqrt(4) # Khusus akar 2"
   ]
  },
  {
   "cell_type": "code",
   "execution_count": 42,
   "id": "3c2cc5b5",
   "metadata": {},
   "outputs": [
    {
     "data": {
      "text/plain": [
       "1.6265765616977856"
      ]
     },
     "execution_count": 42,
     "metadata": {},
     "output_type": "execute_result"
    }
   ],
   "source": [
    "7**(1/4) # akar 4 dari 7"
   ]
  },
  {
   "cell_type": "code",
   "execution_count": 45,
   "id": "37aec252",
   "metadata": {},
   "outputs": [
    {
     "data": {
      "text/plain": [
       "2.0"
      ]
     },
     "execution_count": 45,
     "metadata": {},
     "output_type": "execute_result"
    }
   ],
   "source": [
    "8**(1/3) # akar 3 dari 8"
   ]
  },
  {
   "cell_type": "code",
   "execution_count": 52,
   "id": "87208a74",
   "metadata": {},
   "outputs": [
    {
     "data": {
      "text/plain": [
       "3.0"
      ]
     },
     "execution_count": 52,
     "metadata": {},
     "output_type": "execute_result"
    }
   ],
   "source": [
    "# math.log(a, b):\n",
    "# a : adalah angka yang mau dicari lognya\n",
    "# b : adalah base dari log\n",
    "math.log(8, 2) # 7 log 21"
   ]
  },
  {
   "cell_type": "code",
   "execution_count": 51,
   "id": "38944197",
   "metadata": {},
   "outputs": [
    {
     "data": {
      "text/plain": [
       "1307674368000"
      ]
     },
     "execution_count": 51,
     "metadata": {},
     "output_type": "execute_result"
    }
   ],
   "source": [
    "math.factorial(15)"
   ]
  },
  {
   "cell_type": "code",
   "execution_count": null,
   "id": "c42a7ae2",
   "metadata": {},
   "outputs": [],
   "source": []
  }
 ],
 "metadata": {
  "kernelspec": {
   "display_name": "Python 3 (ipykernel)",
   "language": "python",
   "name": "python3"
  },
  "language_info": {
   "codemirror_mode": {
    "name": "ipython",
    "version": 3
   },
   "file_extension": ".py",
   "mimetype": "text/x-python",
   "name": "python",
   "nbconvert_exporter": "python",
   "pygments_lexer": "ipython3",
   "version": "3.9.7"
  }
 },
 "nbformat": 4,
 "nbformat_minor": 5
}
