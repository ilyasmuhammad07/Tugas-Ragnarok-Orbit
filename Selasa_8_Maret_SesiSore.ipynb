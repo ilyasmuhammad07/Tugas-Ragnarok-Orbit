{
 "cells": [
  {
   "cell_type": "markdown",
   "id": "12019273",
   "metadata": {},
   "source": [
    "# Math for AI\n",
    "\n",
    "Hitunglah:\n",
    "- 2*A\n",
    "- 2+A\n",
    "- A+B\n",
    "- A-B\n",
    "- determinan A\n",
    "- invers dari B, simpan jadi matriks D\n",
    "- transpose D\n",
    "- nilai eigen dan vektor eigen dari A dan B"
   ]
  },
  {
   "cell_type": "code",
   "execution_count": 1,
   "id": "04624bcd",
   "metadata": {},
   "outputs": [],
   "source": [
    "import numpy as np"
   ]
  },
  {
   "cell_type": "code",
   "execution_count": 2,
   "id": "a3a71e67",
   "metadata": {},
   "outputs": [],
   "source": [
    "A = np.array([[1, 2], [7,8]])\n",
    "B = np.array([[3, 5], [1,6]])"
   ]
  },
  {
   "cell_type": "code",
   "execution_count": 8,
   "id": "ce40d650",
   "metadata": {},
   "outputs": [
    {
     "name": "stdout",
     "output_type": "stream",
     "text": [
      "[[ 2  4]\n",
      " [14 16]] ==> 2 * A\n",
      "\n",
      "[[ 3  4]\n",
      " [ 9 10]] ==> 2 + A\n",
      "\n",
      "[[ 4  7]\n",
      " [ 8 14]] ==> A + B\n",
      "\n",
      "[[-2 -3]\n",
      " [ 6  2]] ==> A - B\n",
      "\n",
      "Determinan Matrik A =  -6.0\n",
      "\n",
      "[[ 0.46153846 -0.38461538]\n",
      " [-0.07692308  0.23076923]] ==> Matriks D (Invers dari matriks B)\n",
      "\n",
      "[[ 0.46153846 -0.07692308]\n",
      " [-0.38461538  0.23076923]] ==> Transpose Matriks D\n",
      "\n",
      "Nilai eigen dari Matriks A = [-0.62347538  9.62347538]\n",
      "\n",
      "Vektor eigen dari Matriks A = [[-0.77640358 -0.22592838]\n",
      " [ 0.63023605 -0.97414391]]\n",
      "\n",
      "Nilai eigen dari Matriks B = [1.8074176 7.1925824]\n",
      "\n",
      "Vektor eigen dari Matriks B = [[-0.97271381 -0.76626443]\n",
      " [ 0.23200828 -0.64252535]]\n"
     ]
    }
   ],
   "source": [
    "print(2 * A,\"==> 2 * A\") # 2 * A\n",
    "print(\"\")\n",
    "print(2 + A,\"==> 2 + A\") # 2 + A\n",
    "print(\"\")\n",
    "print(A + B,\"==> A + B\") # A + B\n",
    "print(\"\")\n",
    "print(A - B,\"==> A - B\") # A - B\n",
    "print(\"\")\n",
    "\n",
    "\n",
    "print('Determinan Matrik A = ',np.linalg.det(A)) # Determinan A\n",
    "print(\"\")\n",
    "\n",
    "D = (np.linalg.inv(B)) # invers dari B, simpan jadi matriks D\n",
    "print(D, \"==> Matriks D (Invers dari matriks B)\")\n",
    "print(\"\")\n",
    "\n",
    "trnsps_D = np.transpose(D) # Transpose Matriks D\n",
    "print(trnsps_D, \"==> Transpose Matriks D\")\n",
    "print(\"\")\n",
    "\n",
    "print('Nilai eigen dari Matriks A ==>',np.linalg.eig(A)[0]) # Nilai eigen dari Matriks A[0]\n",
    "print(\"\")\n",
    "print('Vektor eigen dari Matriks A ==>',np.linalg.eig(A)[1]) # Vektor eigen dari Matriks A[1]\n",
    "print(\"\")\n",
    "\n",
    "print('Nilai eigen dari Matriks B ==>',np.linalg.eig(B)[0]) # Nilai eigen dari Matriks B[0]\n",
    "print(\"\")\n",
    "print('Vektor eigen dari Matriks B ==>',np.linalg.eig(B)[1]) # Vektor eigen dari Matriks B[1]"
   ]
  },
  {
   "cell_type": "code",
   "execution_count": null,
   "id": "d5ccd0e9",
   "metadata": {},
   "outputs": [],
   "source": []
  }
 ],
 "metadata": {
  "kernelspec": {
   "display_name": "Python 3 (ipykernel)",
   "language": "python",
   "name": "python3"
  },
  "language_info": {
   "codemirror_mode": {
    "name": "ipython",
    "version": 3
   },
   "file_extension": ".py",
   "mimetype": "text/x-python",
   "name": "python",
   "nbconvert_exporter": "python",
   "pygments_lexer": "ipython3",
   "version": "3.9.7"
  }
 },
 "nbformat": 4,
 "nbformat_minor": 5
}
