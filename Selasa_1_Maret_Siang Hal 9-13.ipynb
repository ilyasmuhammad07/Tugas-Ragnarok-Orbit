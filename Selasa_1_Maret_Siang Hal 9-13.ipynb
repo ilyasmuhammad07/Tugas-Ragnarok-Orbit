{
 "cells": [
  {
   "cell_type": "markdown",
   "id": "35ef6e2a",
   "metadata": {},
   "source": [
    "# Tugas Siang HAL 9-13 \n",
    "Module1_Section2_Lab1_Python_Programming"
   ]
  },
  {
   "cell_type": "markdown",
   "id": "e6b3795c",
   "metadata": {},
   "source": [
    "## Data Types & Data Structures\n",
    "Most common and important types (classes)\n",
    "\n",
    "– \"Single value\": None, int, float, bool, str, complex\n",
    "\n",
    "– \"Multiple values\": list, tuple, set, dict"
   ]
  },
  {
   "cell_type": "code",
   "execution_count": 1,
   "id": "cc62f665",
   "metadata": {},
   "outputs": [],
   "source": [
    "#Identifying Data Types\n",
    "a = 42\n",
    "b = 32.30"
   ]
  },
  {
   "cell_type": "code",
   "execution_count": 2,
   "id": "dd51c914",
   "metadata": {},
   "outputs": [
    {
     "name": "stdout",
     "output_type": "stream",
     "text": [
      "<class 'int'>\n",
      "<class 'float'>\n"
     ]
    }
   ],
   "source": [
    "print(type(a))#gets type of a\n",
    "print(type(b))#gets type of b"
   ]
  },
  {
   "cell_type": "markdown",
   "id": "da684c2e",
   "metadata": {},
   "source": [
    "# List \n",
    "Lists can be thought of the most general version of a sequence in Python.\n",
    "\n",
    "In this section we will learn about:\n",
    "1. Creating lists\n",
    "2. Indexing and Slicing Lists\n",
    "3. Basic List Methods\n",
    "4. Nesting Lists\n",
    "5. Introduction to List Comprehensions"
   ]
  },
  {
   "cell_type": "code",
   "execution_count": 3,
   "id": "97461193",
   "metadata": {},
   "outputs": [
    {
     "data": {
      "text/plain": [
       "[1, 2, 3]"
      ]
     },
     "execution_count": 3,
     "metadata": {},
     "output_type": "execute_result"
    }
   ],
   "source": [
    "# Assign a list to an variable named my_list\n",
    "my_list = [1,2,3]\n",
    "my_list"
   ]
  },
  {
   "cell_type": "code",
   "execution_count": 4,
   "id": "229e5730",
   "metadata": {},
   "outputs": [
    {
     "data": {
      "text/plain": [
       "['A string', 23, 100.232, 'o']"
      ]
     },
     "execution_count": 4,
     "metadata": {},
     "output_type": "execute_result"
    }
   ],
   "source": [
    "my_list = ['A string',23,100.232,'o']\n",
    "my_list"
   ]
  },
  {
   "cell_type": "code",
   "execution_count": 5,
   "id": "9cfb357c",
   "metadata": {},
   "outputs": [
    {
     "data": {
      "text/plain": [
       "4"
      ]
     },
     "execution_count": 5,
     "metadata": {},
     "output_type": "execute_result"
    }
   ],
   "source": [
    "len(my_list)"
   ]
  },
  {
   "cell_type": "code",
   "execution_count": 6,
   "id": "12dfce98",
   "metadata": {},
   "outputs": [],
   "source": [
    "# Adding New Elements to a list\n",
    "my_list = ['one',[1],'two', [2],'three', 4, 5]"
   ]
  },
  {
   "cell_type": "code",
   "execution_count": 7,
   "id": "6146551f",
   "metadata": {},
   "outputs": [
    {
     "name": "stdout",
     "output_type": "stream",
     "text": [
      "['one', [1], 'two', [2], 'three', 4, 5, 21]\n"
     ]
    }
   ],
   "source": [
    "my_list.append(21)\n",
    "print(my_list)"
   ]
  },
  {
   "cell_type": "code",
   "execution_count": 8,
   "id": "7eb1251d",
   "metadata": {},
   "outputs": [
    {
     "name": "stdout",
     "output_type": "stream",
     "text": [
      "[1, 2, 3, 4, 5, 6]\n"
     ]
    }
   ],
   "source": [
    "l = [1, 2, 3]\n",
    "l.extend([4, 5, 6]) #extend untuk menjajarkan isi elemen dari variable l\n",
    "print(l)"
   ]
  },
  {
   "cell_type": "markdown",
   "id": "c14301d6",
   "metadata": {},
   "source": [
    "### Slicing\n",
    "Slicing is used to access individual elements or a rage of elements in a list.\n",
    "\n",
    "The syntax for slicing lists is:\n",
    "\n",
    "• list_object[start:end:step] or\n",
    "\n",
    "• list_object[start:end]\n"
   ]
  },
  {
   "cell_type": "code",
   "execution_count": 10,
   "id": "17d285fc",
   "metadata": {},
   "outputs": [],
   "source": [
    "lst = list(range(10)) # create a list containing 10 numbers starting from 0\n"
   ]
  },
  {
   "cell_type": "code",
   "execution_count": 11,
   "id": "2db71c20",
   "metadata": {},
   "outputs": [
    {
     "name": "stdout",
     "output_type": "stream",
     "text": [
      "[0, 1, 2, 3, 4, 5, 6, 7, 8, 9]\n"
     ]
    }
   ],
   "source": [
    "print(lst)"
   ]
  },
  {
   "cell_type": "code",
   "execution_count": 12,
   "id": "9eb97d03",
   "metadata": {},
   "outputs": [
    {
     "name": "stdout",
     "output_type": "stream",
     "text": [
      "elements from index 4 to 7: [4, 5, 6]\n"
     ]
    }
   ],
   "source": [
    "print(\"elements from index 4 to 7:\", lst[4:7])"
   ]
  },
  {
   "cell_type": "code",
   "execution_count": 13,
   "id": "036186c1",
   "metadata": {},
   "outputs": [
    {
     "name": "stdout",
     "output_type": "stream",
     "text": [
      "alternate elements, starting at index 0: [0, 2, 4, 6, 8]\n"
     ]
    }
   ],
   "source": [
    "print(\"alternate elements, starting at index 0:\", lst[0::2])\n",
    "# prints elements from index 0 till last index with a step of 2"
   ]
  },
  {
   "cell_type": "code",
   "execution_count": 14,
   "id": "006c48f5",
   "metadata": {},
   "outputs": [
    {
     "name": "stdout",
     "output_type": "stream",
     "text": [
      "every third element, starting at index 1: [1, 4, 7]\n"
     ]
    }
   ],
   "source": [
    "print(\"every third element, starting at index 1:\", lst[1::3])\n",
    "# prints elements from index 1 till last index with a step of 3"
   ]
  },
  {
   "cell_type": "markdown",
   "id": "7071ffdc",
   "metadata": {},
   "source": [
    "## Dictionaries \n",
    "Now we're going to switch gears and learn about mappings called dictionaries in Python. If\n",
    "you're familiar with other languages you can think of these Dictionaries as hash tables.\n",
    "\n",
    "This section will serve as a brief introduction to dictionaries and consist of:\n",
    "1. Constructing a Dictionary\n",
    "2. Accessing objects from a dictionary\n",
    "3. Nesting Dictionaries\n",
    "4. Basic Dictionary Methods "
   ]
  },
  {
   "cell_type": "markdown",
   "id": "c8268737",
   "metadata": {},
   "source": [
    "#### 1. Constructing a Dictionary"
   ]
  },
  {
   "cell_type": "code",
   "execution_count": 17,
   "id": "1c876073",
   "metadata": {},
   "outputs": [],
   "source": [
    "# Make a dictionary with {} and : to signify a key and a value\n",
    "my_dict = {'key1':'value1','key2':'value2'}"
   ]
  },
  {
   "cell_type": "code",
   "execution_count": 18,
   "id": "5d463ead",
   "metadata": {},
   "outputs": [
    {
     "data": {
      "text/plain": [
       "'value2'"
      ]
     },
     "execution_count": 18,
     "metadata": {},
     "output_type": "execute_result"
    }
   ],
   "source": [
    "# Call values by their key\n",
    "my_dict['key2']"
   ]
  },
  {
   "cell_type": "markdown",
   "id": "474760fb",
   "metadata": {},
   "source": [
    "###### We can effect the values of a key as well. For instance:"
   ]
  },
  {
   "cell_type": "code",
   "execution_count": 19,
   "id": "72d7bfa2",
   "metadata": {},
   "outputs": [
    {
     "data": {
      "text/plain": [
       "{'key1': 123, 'key2': 'value2'}"
      ]
     },
     "execution_count": 19,
     "metadata": {},
     "output_type": "execute_result"
    }
   ],
   "source": [
    "my_dict['key1']=123\n",
    "my_dict"
   ]
  },
  {
   "cell_type": "code",
   "execution_count": 20,
   "id": "dd9c72c8",
   "metadata": {},
   "outputs": [],
   "source": [
    "# Subtract 123 from the value\n",
    "my_dict['key1'] = my_dict['key1'] - 123"
   ]
  },
  {
   "cell_type": "code",
   "execution_count": 21,
   "id": "adaa7669",
   "metadata": {},
   "outputs": [
    {
     "data": {
      "text/plain": [
       "0"
      ]
     },
     "execution_count": 21,
     "metadata": {},
     "output_type": "execute_result"
    }
   ],
   "source": [
    "#Check\n",
    "my_dict['key1']"
   ]
  },
  {
   "cell_type": "code",
   "execution_count": 22,
   "id": "4d89d52e",
   "metadata": {},
   "outputs": [
    {
     "data": {
      "text/plain": [
       "-217"
      ]
     },
     "execution_count": 22,
     "metadata": {},
     "output_type": "execute_result"
    }
   ],
   "source": [
    "# Set the object equal to itself minus 123\n",
    "my_dict['key1'] -= 217\n",
    "my_dict['key1']"
   ]
  },
  {
   "cell_type": "markdown",
   "id": "e5c7b429",
   "metadata": {},
   "source": [
    "###### Now its your turn to get hands-on with Dictionary, create a empty dicts. Create a new key  animal and assign a value 'Dog' to it.."
   ]
  },
  {
   "cell_type": "code",
   "execution_count": 23,
   "id": "3cf6abd8",
   "metadata": {},
   "outputs": [],
   "source": [
    "# Create a new dictionary\n",
    "d = {}"
   ]
  },
  {
   "cell_type": "code",
   "execution_count": 24,
   "id": "fa1bba96",
   "metadata": {},
   "outputs": [],
   "source": [
    "# Create a new key through assignment\n",
    "d['animal'] = 'Dog'"
   ]
  },
  {
   "cell_type": "code",
   "execution_count": 25,
   "id": "da8a5aaa",
   "metadata": {},
   "outputs": [
    {
     "data": {
      "text/plain": [
       "{'animal': 'Dog'}"
      ]
     },
     "execution_count": 25,
     "metadata": {},
     "output_type": "execute_result"
    }
   ],
   "source": [
    "# check\n",
    "d"
   ]
  },
  {
   "cell_type": "markdown",
   "id": "2b741b8b",
   "metadata": {},
   "source": [
    "##### 2. Set "
   ]
  },
  {
   "cell_type": "code",
   "execution_count": 33,
   "id": "f8b441f2",
   "metadata": {},
   "outputs": [],
   "source": [
    "# Sets\n",
    "x = set()"
   ]
  },
  {
   "cell_type": "code",
   "execution_count": 35,
   "id": "3d95d2d3",
   "metadata": {},
   "outputs": [],
   "source": [
    "# We add to sets with the add() method\n",
    "x.add(1)"
   ]
  },
  {
   "cell_type": "code",
   "execution_count": 28,
   "id": "f0bfc25b",
   "metadata": {},
   "outputs": [
    {
     "data": {
      "text/plain": [
       "{1}"
      ]
     },
     "execution_count": 28,
     "metadata": {},
     "output_type": "execute_result"
    }
   ],
   "source": [
    "# Check\n",
    "x"
   ]
  },
  {
   "cell_type": "code",
   "execution_count": 39,
   "id": "ddf63a4b",
   "metadata": {},
   "outputs": [],
   "source": [
    "# Add a different element\n",
    "x.add(2)"
   ]
  },
  {
   "cell_type": "code",
   "execution_count": 30,
   "id": "372c74f0",
   "metadata": {},
   "outputs": [
    {
     "data": {
      "text/plain": [
       "{1, 2}"
      ]
     },
     "execution_count": 30,
     "metadata": {},
     "output_type": "execute_result"
    }
   ],
   "source": [
    "x #check"
   ]
  },
  {
   "cell_type": "code",
   "execution_count": 37,
   "id": "df26d23d",
   "metadata": {},
   "outputs": [],
   "source": [
    "# Try to add the same element\n",
    "x.add(1)"
   ]
  },
  {
   "cell_type": "code",
   "execution_count": 40,
   "id": "f53f47dd",
   "metadata": {},
   "outputs": [
    {
     "data": {
      "text/plain": [
       "{1, 2}"
      ]
     },
     "execution_count": 40,
     "metadata": {},
     "output_type": "execute_result"
    }
   ],
   "source": [
    "x #check"
   ]
  },
  {
   "cell_type": "code",
   "execution_count": 42,
   "id": "c185b9c0",
   "metadata": {},
   "outputs": [],
   "source": [
    "# Create a list with repeats\n",
    "l = [1,1,2,2,3,4,5,6,1,1]"
   ]
  },
  {
   "cell_type": "code",
   "execution_count": 43,
   "id": "3c6c7cd5",
   "metadata": {},
   "outputs": [
    {
     "data": {
      "text/plain": [
       "{1, 2, 3, 4, 5, 6}"
      ]
     },
     "execution_count": 43,
     "metadata": {},
     "output_type": "execute_result"
    }
   ],
   "source": [
    "# Cast as set to get unique values\n",
    "set(l)"
   ]
  },
  {
   "cell_type": "code",
   "execution_count": null,
   "id": "a4e0548f",
   "metadata": {},
   "outputs": [],
   "source": []
  }
 ],
 "metadata": {
  "kernelspec": {
   "display_name": "Python 3 (ipykernel)",
   "language": "python",
   "name": "python3"
  },
  "language_info": {
   "codemirror_mode": {
    "name": "ipython",
    "version": 3
   },
   "file_extension": ".py",
   "mimetype": "text/x-python",
   "name": "python",
   "nbconvert_exporter": "python",
   "pygments_lexer": "ipython3",
   "version": "3.9.7"
  }
 },
 "nbformat": 4,
 "nbformat_minor": 5
}
