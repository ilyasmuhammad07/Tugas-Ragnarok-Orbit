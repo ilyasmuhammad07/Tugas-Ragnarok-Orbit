{
 "cells": [
  {
   "cell_type": "markdown",
   "id": "7cb40007",
   "metadata": {},
   "source": [
    "# Tugas Pagi Hal 1-8 \n",
    "Module1_Section2_Lab1_Python_Programming"
   ]
  },
  {
   "cell_type": "markdown",
   "id": "9a5d950f",
   "metadata": {},
   "source": [
    "# String\n",
    "Strings are used in Python to record text information, such as name. Strings in Python are\n",
    "actually a sequence, which basically means Python keeps track of every element in the string as a sequence.\n",
    "\n",
    "In this section we will learn about:\n",
    "1. Creating String\n",
    "2. Printing String\n",
    "3. String Indexing and Slicing\n",
    "4. String Properties\n",
    "5. String Methods\n",
    "6. Print Formating "
   ]
  },
  {
   "cell_type": "markdown",
   "id": "c4752b6f",
   "metadata": {},
   "source": [
    "### Creating String\n",
    "a series of characters in your code that is enclosed in double quotes."
   ]
  },
  {
   "cell_type": "code",
   "execution_count": 1,
   "id": "ef7d9b0f",
   "metadata": {},
   "outputs": [
    {
     "name": "stdout",
     "output_type": "stream",
     "text": [
      "hello\n"
     ]
    }
   ],
   "source": [
    "# Single Word\n",
    "print('hello')"
   ]
  },
  {
   "cell_type": "code",
   "execution_count": 2,
   "id": "2912d778",
   "metadata": {},
   "outputs": [
    {
     "name": "stdout",
     "output_type": "stream",
     "text": [
      "\n"
     ]
    }
   ],
   "source": [
    "print() #Used to have a line space between two sentences. Try deleting this line & seeing the difference."
   ]
  },
  {
   "cell_type": "code",
   "execution_count": 3,
   "id": "179d6280",
   "metadata": {},
   "outputs": [
    {
     "name": "stdout",
     "output_type": "stream",
     "text": [
      "This is also a string\n"
     ]
    }
   ],
   "source": [
    "# Entire phrase\n",
    "print('This is also a string')"
   ]
  },
  {
   "cell_type": "markdown",
   "id": "c8f3bb5e",
   "metadata": {},
   "source": [
    "### Variables : Store your Value in me!\n",
    "In the code below we begin to explore how we can use a variable to which a string can be assigned.\n",
    "1. variable_name = value or expression"
   ]
  },
  {
   "cell_type": "code",
   "execution_count": 4,
   "id": "f3c28d82",
   "metadata": {},
   "outputs": [],
   "source": [
    "# Variable\n",
    "s = 'New York'  "
   ]
  },
  {
   "cell_type": "code",
   "execution_count": 5,
   "id": "57b4507f",
   "metadata": {},
   "outputs": [
    {
     "name": "stdout",
     "output_type": "stream",
     "text": [
      "New York\n"
     ]
    }
   ],
   "source": [
    "print(s)"
   ]
  },
  {
   "cell_type": "code",
   "execution_count": 6,
   "id": "6b2db2b5",
   "metadata": {},
   "outputs": [
    {
     "name": "stdout",
     "output_type": "stream",
     "text": [
      "<class 'str'>\n"
     ]
    }
   ],
   "source": [
    "print(type(s))"
   ]
  },
  {
   "cell_type": "code",
   "execution_count": 7,
   "id": "8e440800",
   "metadata": {},
   "outputs": [
    {
     "name": "stdout",
     "output_type": "stream",
     "text": [
      "8\n"
     ]
    }
   ],
   "source": [
    "print(len(s))"
   ]
  },
  {
   "cell_type": "markdown",
   "id": "34655346",
   "metadata": {},
   "source": [
    "### String Indexing\n",
    "We know strings are a sequence, which means Python can use indexes to call parts of the sequence. Let's learn how this works.\n",
    "In Python, we use brackets [] after an object to call its index. We should also note that indexing starts at 0 for Python."
   ]
  },
  {
   "cell_type": "code",
   "execution_count": 9,
   "id": "ddddb24b",
   "metadata": {},
   "outputs": [],
   "source": [
    "# Assign s as a string\n",
    "s = 'Hello World'"
   ]
  },
  {
   "cell_type": "code",
   "execution_count": 10,
   "id": "b5a3cb38",
   "metadata": {},
   "outputs": [
    {
     "name": "stdout",
     "output_type": "stream",
     "text": [
      "Hello World\n"
     ]
    }
   ],
   "source": [
    "# Print the object\n",
    "print(s)"
   ]
  },
  {
   "cell_type": "code",
   "execution_count": 11,
   "id": "922aa373",
   "metadata": {},
   "outputs": [
    {
     "name": "stdout",
     "output_type": "stream",
     "text": [
      "H\n"
     ]
    }
   ],
   "source": [
    "# Show first element (in this case a letter)\n",
    "print(s[0])"
   ]
  },
  {
   "cell_type": "code",
   "execution_count": 12,
   "id": "8f95142c",
   "metadata": {},
   "outputs": [
    {
     "name": "stdout",
     "output_type": "stream",
     "text": [
      "e\n"
     ]
    }
   ],
   "source": [
    "# Show the second element (also a letter)\n",
    "print(s[1])"
   ]
  },
  {
   "cell_type": "markdown",
   "id": "da69fefa",
   "metadata": {},
   "source": [
    "### String Concatenation and Repetition\n",
    "String Concatenation is a process to combine two strings. It is done using the '+' operator.\n",
    "\n",
    "String Repetition is a process of repeating a same string multiple times"
   ]
  },
  {
   "cell_type": "code",
   "execution_count": 13,
   "id": "07580363",
   "metadata": {},
   "outputs": [],
   "source": [
    "#concatenation (addition)\n",
    "s1 = 'Hello'\n",
    "s2 = \"World\""
   ]
  },
  {
   "cell_type": "code",
   "execution_count": 14,
   "id": "f1d9070a",
   "metadata": {},
   "outputs": [
    {
     "name": "stdout",
     "output_type": "stream",
     "text": [
      "Hello World\n"
     ]
    }
   ],
   "source": [
    "print(s1 + \" \" + s2)"
   ]
  },
  {
   "cell_type": "code",
   "execution_count": 15,
   "id": "ca2c6c26",
   "metadata": {},
   "outputs": [
    {
     "name": "stdout",
     "output_type": "stream",
     "text": [
      "Hello_Hello_Hello_\n"
     ]
    }
   ],
   "source": [
    "# repetition (multiplication)\n",
    "print(\"Hello_\" * 3)"
   ]
  },
  {
   "cell_type": "code",
   "execution_count": 16,
   "id": "340edc54",
   "metadata": {},
   "outputs": [
    {
     "name": "stdout",
     "output_type": "stream",
     "text": [
      "----------\n"
     ]
    }
   ],
   "source": [
    "print(\"-\" * 10)"
   ]
  },
  {
   "cell_type": "code",
   "execution_count": 17,
   "id": "f3970c43",
   "metadata": {},
   "outputs": [
    {
     "name": "stdout",
     "output_type": "stream",
     "text": [
      "loool\n"
     ]
    }
   ],
   "source": [
    "print((s1[3]+s1[4]*3) + s2[3])"
   ]
  },
  {
   "cell_type": "markdown",
   "id": "d3d676bb",
   "metadata": {},
   "source": [
    "### String Slicing & Indexing\n",
    "String Indexing is used to to select the letter at a particular index/position.\n",
    "\n",
    "String Slicing is a process to select a subset of an entire string\n"
   ]
  },
  {
   "cell_type": "code",
   "execution_count": 18,
   "id": "036e51be",
   "metadata": {},
   "outputs": [
    {
     "name": "stdout",
     "output_type": "stream",
     "text": [
      "a\n"
     ]
    }
   ],
   "source": [
    "s = \"Namaste World\"\n",
    "# print sub strings\n",
    "print(s[1]) #This is indexing."
   ]
  },
  {
   "cell_type": "code",
   "execution_count": 19,
   "id": "9a387704",
   "metadata": {},
   "outputs": [
    {
     "name": "stdout",
     "output_type": "stream",
     "text": [
      "e Wor\n"
     ]
    }
   ],
   "source": [
    "print(s[6:11]) #This is known as slicing."
   ]
  },
  {
   "cell_type": "code",
   "execution_count": 20,
   "id": "19114757",
   "metadata": {},
   "outputs": [
    {
     "name": "stdout",
     "output_type": "stream",
     "text": [
      "Worl\n"
     ]
    }
   ],
   "source": [
    "print(s[-5:-1]) #kata diambil dari sisi paling belakang"
   ]
  },
  {
   "cell_type": "code",
   "execution_count": 21,
   "id": "901e3ab9",
   "metadata": {},
   "outputs": [
    {
     "name": "stdout",
     "output_type": "stream",
     "text": [
      "True\n"
     ]
    }
   ],
   "source": [
    "# test substring membership\n",
    "print(\"Wor\" in s)"
   ]
  },
  {
   "cell_type": "markdown",
   "id": "60aa5fc7",
   "metadata": {},
   "source": [
    "### String Method\n",
    "Methods are in the form :\n",
    "\n",
    "object.method(parameters)"
   ]
  },
  {
   "cell_type": "code",
   "execution_count": 22,
   "id": "317ecc16",
   "metadata": {},
   "outputs": [
    {
     "name": "stdout",
     "output_type": "stream",
     "text": [
      "HELLO WORLD\n"
     ]
    }
   ],
   "source": [
    "s = \"Hello World\"\n",
    "print(s.upper()) ## Convert all the element of the string to Upper case..!!"
   ]
  },
  {
   "cell_type": "code",
   "execution_count": 23,
   "id": "3d104321",
   "metadata": {},
   "outputs": [
    {
     "name": "stdout",
     "output_type": "stream",
     "text": [
      "hello world\n"
     ]
    }
   ],
   "source": [
    "print(s.lower()) ## Convert all the element of the string to Lower case..!!"
   ]
  },
  {
   "cell_type": "markdown",
   "id": "ed176d45",
   "metadata": {},
   "source": [
    "### Print Formatting\n",
    "We can use the .format() method to add formatted objects to printed string statements.\n",
    "\n",
    "Example code: \n",
    "1. %s >>> %\n",
    "2. {} >>> .format"
   ]
  },
  {
   "cell_type": "code",
   "execution_count": 24,
   "id": "f78dab8d",
   "metadata": {},
   "outputs": [],
   "source": [
    "name = \"Einstein\"\n",
    "age = 22\n",
    "married = True"
   ]
  },
  {
   "cell_type": "code",
   "execution_count": 25,
   "id": "d1814a1e",
   "metadata": {},
   "outputs": [
    {
     "name": "stdout",
     "output_type": "stream",
     "text": [
      "My name is Einstein, my age is 22, and it is True that I am married\n"
     ]
    }
   ],
   "source": [
    "print(\"My name is %s, my age is %s, and it is %s that I am married\" % (name, age, married))"
   ]
  },
  {
   "cell_type": "code",
   "execution_count": 26,
   "id": "03c4f348",
   "metadata": {},
   "outputs": [
    {
     "name": "stdout",
     "output_type": "stream",
     "text": [
      "Saya ada Einstein, umur saya 22, dan ini True saya sudah married \n"
     ]
    }
   ],
   "source": [
    "print(\"Saya ada %s, umur saya %s, dan ini %s saya sudah married \" %(name, age, married))"
   ]
  },
  {
   "cell_type": "code",
   "execution_count": 27,
   "id": "bd0dad0a",
   "metadata": {},
   "outputs": [
    {
     "name": "stdout",
     "output_type": "stream",
     "text": [
      "My name is Einstein, my age is 22, and it is True that I am married\n"
     ]
    }
   ],
   "source": [
    "print(\"My name is {}, my age is {}, and it is {} that I am married\".format(name, age, married))"
   ]
  },
  {
   "cell_type": "markdown",
   "id": "fc20f288",
   "metadata": {},
   "source": [
    "# NUMBER\n",
    "Having worked with string we will turn our attention to numbers.\n",
    "\n",
    "1. Types of Numbers in Python\n",
    "2. Basic Arithmetic\n",
    "3. Object Assignment in Python"
   ]
  },
  {
   "cell_type": "markdown",
   "id": "54e65e79",
   "metadata": {},
   "source": [
    " ## Types of numbers\n",
    "  Python has various \"types\" of numbers (numeric literals). We'll mainly focus on integers and floating point numbers."
   ]
  },
  {
   "cell_type": "markdown",
   "id": "431ee3a8",
   "metadata": {},
   "source": [
    "##### Basic Arithmetic"
   ]
  },
  {
   "cell_type": "code",
   "execution_count": 29,
   "id": "3ad1550c",
   "metadata": {},
   "outputs": [
    {
     "name": "stdout",
     "output_type": "stream",
     "text": [
      "3\n"
     ]
    }
   ],
   "source": [
    "# Addition\n",
    "print(2+1)"
   ]
  },
  {
   "cell_type": "code",
   "execution_count": 30,
   "id": "b587dd63",
   "metadata": {},
   "outputs": [
    {
     "name": "stdout",
     "output_type": "stream",
     "text": [
      "1\n"
     ]
    }
   ],
   "source": [
    "# Subtraction\n",
    "print(2-1)"
   ]
  },
  {
   "cell_type": "code",
   "execution_count": 31,
   "id": "a5ad28f2",
   "metadata": {},
   "outputs": [
    {
     "name": "stdout",
     "output_type": "stream",
     "text": [
      "4\n"
     ]
    }
   ],
   "source": [
    "# Multiplication\n",
    "print(2*2)"
   ]
  },
  {
   "cell_type": "code",
   "execution_count": 32,
   "id": "69f91a73",
   "metadata": {},
   "outputs": [
    {
     "name": "stdout",
     "output_type": "stream",
     "text": [
      "1.5\n"
     ]
    }
   ],
   "source": [
    "# Division\n",
    "print(3/2)"
   ]
  },
  {
   "cell_type": "markdown",
   "id": "f2c2b30c",
   "metadata": {},
   "source": [
    "##### Arithmetic continued\n",
    "\n",
    "\n"
   ]
  },
  {
   "cell_type": "code",
   "execution_count": 33,
   "id": "810513cf",
   "metadata": {},
   "outputs": [
    {
     "data": {
      "text/plain": [
       "8"
      ]
     },
     "execution_count": 33,
     "metadata": {},
     "output_type": "execute_result"
    }
   ],
   "source": [
    "# Powers\n",
    "2**3"
   ]
  },
  {
   "cell_type": "code",
   "execution_count": 34,
   "id": "0a49f901",
   "metadata": {},
   "outputs": [
    {
     "data": {
      "text/plain": [
       "105"
      ]
     },
     "execution_count": 34,
     "metadata": {},
     "output_type": "execute_result"
    }
   ],
   "source": [
    "# Order of Operations followed in Python\n",
    "2 + 10 * 10 + 3"
   ]
  },
  {
   "cell_type": "code",
   "execution_count": 35,
   "id": "74dd53ee",
   "metadata": {},
   "outputs": [
    {
     "data": {
      "text/plain": [
       "156"
      ]
     },
     "execution_count": 35,
     "metadata": {},
     "output_type": "execute_result"
    }
   ],
   "source": [
    "# Can use parenthesis to specify orders\n",
    "(2+10) * (10+3)"
   ]
  },
  {
   "cell_type": "markdown",
   "id": "8c2788b2",
   "metadata": {},
   "source": [
    "## Variable Assignments\n",
    "Now that we've seen how to use numbers in Python as a calculator let's see how we can assign names and create variables."
   ]
  },
  {
   "cell_type": "code",
   "execution_count": 36,
   "id": "4c9c6cbe",
   "metadata": {},
   "outputs": [],
   "source": [
    "# Let's create an object called \"a\" and assign it the number 5\n",
    "a = 5"
   ]
  },
  {
   "cell_type": "code",
   "execution_count": 37,
   "id": "1bccc2fc",
   "metadata": {},
   "outputs": [
    {
     "data": {
      "text/plain": [
       "10"
      ]
     },
     "execution_count": 37,
     "metadata": {},
     "output_type": "execute_result"
    }
   ],
   "source": [
    "# Adding the objects\n",
    "a+a"
   ]
  },
  {
   "cell_type": "code",
   "execution_count": 38,
   "id": "95e5f029",
   "metadata": {},
   "outputs": [
    {
     "data": {
      "text/plain": [
       "25"
      ]
     },
     "execution_count": 38,
     "metadata": {},
     "output_type": "execute_result"
    }
   ],
   "source": [
    "a*a"
   ]
  },
  {
   "cell_type": "code",
   "execution_count": 39,
   "id": "fed661af",
   "metadata": {},
   "outputs": [],
   "source": [
    "# Reassignment\n",
    "a = 10"
   ]
  },
  {
   "cell_type": "code",
   "execution_count": 40,
   "id": "9524f81b",
   "metadata": {},
   "outputs": [
    {
     "data": {
      "text/plain": [
       "10"
      ]
     },
     "execution_count": 40,
     "metadata": {},
     "output_type": "execute_result"
    }
   ],
   "source": [
    "# Check\n",
    "a"
   ]
  },
  {
   "cell_type": "code",
   "execution_count": 41,
   "id": "7fb6536d",
   "metadata": {},
   "outputs": [
    {
     "data": {
      "text/plain": [
       "20"
      ]
     },
     "execution_count": 41,
     "metadata": {},
     "output_type": "execute_result"
    }
   ],
   "source": [
    "a+a"
   ]
  },
  {
   "cell_type": "code",
   "execution_count": null,
   "id": "e16d36c3",
   "metadata": {},
   "outputs": [],
   "source": []
  }
 ],
 "metadata": {
  "kernelspec": {
   "display_name": "Python 3 (ipykernel)",
   "language": "python",
   "name": "python3"
  },
  "language_info": {
   "codemirror_mode": {
    "name": "ipython",
    "version": 3
   },
   "file_extension": ".py",
   "mimetype": "text/x-python",
   "name": "python",
   "nbconvert_exporter": "python",
   "pygments_lexer": "ipython3",
   "version": "3.9.7"
  }
 },
 "nbformat": 4,
 "nbformat_minor": 5
}
