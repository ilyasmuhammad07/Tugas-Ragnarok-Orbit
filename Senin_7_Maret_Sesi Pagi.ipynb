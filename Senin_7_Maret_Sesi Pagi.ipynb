{
 "cells": [
  {
   "cell_type": "markdown",
   "id": "be5914b5",
   "metadata": {},
   "source": [
    "# Sesi Pagi\n",
    "\n",
    "1. Encapsulation\n",
    "2. Inheritence\n",
    "3. Abstraction\n",
    "4. Polymorphism"
   ]
  },
  {
   "cell_type": "markdown",
   "id": "eeeb958e",
   "metadata": {},
   "source": [
    "## 1. Encapsulation"
   ]
  },
  {
   "cell_type": "code",
   "execution_count": 1,
   "id": "bdc0ca14",
   "metadata": {},
   "outputs": [
    {
     "name": "stdout",
     "output_type": "stream",
     "text": [
      "Nama: Ajang || Usia: 21 || Kelamin: Lanang\n",
      "\n",
      "ngantuk banget!!\n"
     ]
    }
   ],
   "source": [
    "class Manusia(object):\n",
    "    \n",
    "    namanya = \"\"\n",
    "    def __init__(self, name, umur, gender):\n",
    "        self.name = name\n",
    "        self.umur = umur\n",
    "        self.gender = gender\n",
    "        Manusia.namanya = name\n",
    "\n",
    "    def jam(self, durasi):\n",
    "        if durasi>=10 :      # angka 10 menunjukkan jam 10\n",
    "            print(\"\")\n",
    "            print(\"ngantuk banget!!\")\n",
    "        else:\n",
    "            print(\"\")\n",
    "            print(\"belom nih, masih seger!\")\n",
    "\n",
    "    def info_maszzeh(self):\n",
    "        print(f\"Nama: {self.name} || Usia: {self.umur} || Kelamin: {self.gender}\")\n",
    "\n",
    "\n",
    "human = Manusia(\"Ajang\",21, \"Lanang\")\n",
    "\n",
    "human.info_maszzeh()\n",
    "human.jam(10) # angka 10 menunjukkan jam 10 yang berarrti 10 >= 10 = True"
   ]
  },
  {
   "cell_type": "markdown",
   "id": "17fcc9a9",
   "metadata": {},
   "source": [
    "# 2. Inheritence"
   ]
  },
  {
   "cell_type": "code",
   "execution_count": 2,
   "id": "ffe2c4f3",
   "metadata": {},
   "outputs": [
    {
     "name": "stdout",
     "output_type": "stream",
     "text": [
      "nama       : Ajeng\n",
      "usia       : 56\n",
      "jenis setan: Kuntilanak\n",
      "Kelamin    : Wedok\n",
      "\n",
      "\n",
      "udah jam 12 belum ? belum nih, yauda sabarin!\n"
     ]
    }
   ],
   "source": [
    "class Makhluk_Halus(object):\n",
    "    def __init__(selfie, namanya, umurnya, jenisnya, kelaminnya):\n",
    "        selfie.namanya = namanya\n",
    "        selfie.umurnya = umurnya\n",
    "        selfie.jenisnya = jenisnya\n",
    "        selfie.kelaminnya = kelaminnya\n",
    "\n",
    "    def Nakutin(selfie, jamnya):\n",
    "            if jamnya>=12 :       # udah tidur di atas jam 12 belum?\n",
    "                print(\"udah jam 12 belum ? Udah nih, Kuy Beraksi!\")\n",
    "            else:\n",
    "                print(\"\")\n",
    "                print(\"udah jam 12 belum ? belum nih, yauda sabarin!\")\n",
    "\n",
    "    def infoin_dong(selfie):\n",
    "        print(\"nama       :\",selfie.namanya)\n",
    "        print(\"usia       :\",selfie.umurnya)\n",
    "        print(\"jenis setan:\",selfie.jenisnya)\n",
    "        print(\"Kelamin    :\",selfie.kelaminnya)\n",
    "        print(\"\")\n",
    "\n",
    "\n",
    "hahaha =  Makhluk_Halus(\"Ajeng\", 56, \"Kuntilanak\", \"Wedok\")\n",
    "\n",
    "hahaha.infoin_dong()\n",
    "hahaha.Nakutin(11)"
   ]
  },
  {
   "cell_type": "code",
   "execution_count": 3,
   "id": "fe539b74",
   "metadata": {},
   "outputs": [
    {
     "name": "stdout",
     "output_type": "stream",
     "text": [
      "nama       : Sugiono\n",
      "usia       : 74\n",
      "jenis setan: Genderuwo\n",
      "Kelamin    : Lanang\n",
      "\n",
      "nama       : Ajeng\n",
      "usia       : 56\n",
      "jenis setan: Kuntilanak\n",
      "Kelamin    : Wedok\n",
      "\n",
      "udah jam 12 belum ? Udah nih, Kuy Beraksi!\n",
      "Wahhhhyooolllooohhhhhh, aku adalah setan Genderuwo\n"
     ]
    }
   ],
   "source": [
    "class setan(Makhluk_Halus):\n",
    "    def __init__(selfie,  namanya, umurnya, kelaminnya, jenisnya):\n",
    "        super().__init__(namanya, umurnya, jenisnya, kelaminnya)\n",
    "\n",
    "    def hayo(selfie):\n",
    "        super().Nakutin(12)\n",
    "        print(\"Wahhhhyooolllooohhhhhh, aku adalah setan\", selfie.jenisnya)\n",
    "\n",
    "    def infonya_gaes(selfie):\n",
    "        super().infoin_dong()\n",
    "\n",
    "hantu1 = setan(\"Sugiono\", 74, \"Lanang\", \"Genderuwo\")\n",
    "hahaha =  Makhluk_Halus(\"Ajeng\", 56, \"Kuntilanak\", \"Wedok\")\n",
    "\n",
    "#hantu.infoin()\n",
    "#hantu.nakutin(2)\n",
    "hantu1.infonya_gaes()\n",
    "hahaha.infoin_dong()\n",
    "hantu1.hayo()\n",
    "#hahaha.nakutin()"
   ]
  },
  {
   "cell_type": "markdown",
   "id": "47caa6b9",
   "metadata": {},
   "source": [
    "# 3. Abstraction"
   ]
  },
  {
   "cell_type": "code",
   "execution_count": 4,
   "id": "ffed3fde",
   "metadata": {},
   "outputs": [
    {
     "name": "stdout",
     "output_type": "stream",
     "text": [
      "I have 3 sides\n",
      "I have 4 sides\n",
      "I have 5 sides\n",
      "I have 6 sides\n",
      "\n",
      "T is instance of Absclass?  True\n",
      "Q is instance of Absclass?  True\n"
     ]
    }
   ],
   "source": [
    "# Python program showing\n",
    "# abstract base class work\n",
    "\n",
    "from abc import abstractmethod, ABC\n",
    "\n",
    "class Polygon(ABC):\n",
    "    @abstractmethod\n",
    "    def noofsides(self):\n",
    "        pass\n",
    "\n",
    "class Triangle(Polygon):\n",
    "    \n",
    "    # overriding abstract method\n",
    "    def noofsides(self):\n",
    "        print(\"I have 3 sides\")\n",
    "\n",
    "class Pentagon(Polygon):\n",
    "    \n",
    "    # overriding abstract method\n",
    "    def noofsides(self):\n",
    "        print(\"I have 5 sides\")\n",
    "\n",
    "class Hexagon(Polygon):\n",
    "\n",
    "    # overriding abstract method\n",
    "    def noofsides(self):\n",
    "        print(\"I have 6 sides\")\n",
    "\n",
    "class Quadrilateral(Polygon):\n",
    "\n",
    "    # overriding abstract method\n",
    "    def noofsides(self):\n",
    "        print(\"I have 4 sides\")\n",
    "\n",
    "# Driver code\n",
    "T = Triangle()\n",
    "T.noofsides()\n",
    "\n",
    "Q = Quadrilateral()\n",
    "Q.noofsides()\n",
    "  \n",
    "T = Pentagon()\n",
    "T.noofsides()\n",
    "\n",
    "Q = Hexagon()\n",
    "Q.noofsides()\n",
    "\n",
    "print(\"\")\n",
    "print(\"T is instance of Absclass? \", isinstance(T, Polygon))\n",
    "print(\"Q is instance of Absclass? \", isinstance(Q, Polygon))"
   ]
  },
  {
   "cell_type": "code",
   "execution_count": 5,
   "id": "1cf3897a",
   "metadata": {},
   "outputs": [],
   "source": [
    "class Hewann(ABC):\n",
    "    \n",
    "    @abstractmethod\n",
    "    def teriakan(self):\n",
    "        pass\n",
    "    \n",
    "class Anjing(Hewann):\n",
    "    def teriakan(self):\n",
    "        print(\"GUUG GUUG GUUG!\")\n",
    "\n",
    "class Kucing(Hewann):\n",
    "    def teriakan(self):\n",
    "        print(\"MEEONG MEEONG MEEONG!\")"
   ]
  },
  {
   "cell_type": "code",
   "execution_count": 6,
   "id": "24a8ae77",
   "metadata": {},
   "outputs": [
    {
     "name": "stdout",
     "output_type": "stream",
     "text": [
      "GUUG GUUG GUUG!\n",
      "\n",
      "MEEONG MEEONG MEEONG!\n"
     ]
    }
   ],
   "source": [
    "njing = Anjing()\n",
    "ncing = Kucing()\n",
    "njing.teriakan()\n",
    "print(\"\")\n",
    "ncing.teriakan()"
   ]
  },
  {
   "cell_type": "markdown",
   "id": "3dbc537b",
   "metadata": {},
   "source": [
    "# 4. Polymorphism"
   ]
  },
  {
   "cell_type": "code",
   "execution_count": 7,
   "id": "fa14d4b2",
   "metadata": {},
   "outputs": [
    {
     "name": "stdout",
     "output_type": "stream",
     "text": [
      "\n",
      "DKI jakarta masih ibu kota Indonesia.\n",
      "Bahasa Indonesia sering paling digunakan di Jakarta.\n",
      "Indonesia sudah negara maju.\n",
      "\n",
      "北京是中国的首都。Běijīng shì zhōngguó de shǒudū.\n",
      "汉语是中国的主要语言。Hànyǔ shì zhōngguó de zhǔyào yǔyán.\n",
      "中国是发达国家。Zhōngguó shì fādá guójiā.\n"
     ]
    }
   ],
   "source": [
    "class INA():\n",
    "    def capital(self):\n",
    "        print(\"DKI jakarta masih ibu kota Indonesia.\")\n",
    "        \n",
    "    def bahasa(self):\n",
    "        print(\"Bahasa Indonesia sering paling digunakan di Jakarta.\")\n",
    "\n",
    "    def type(self):\n",
    "        print(\"Indonesia sudah negara maju.\")\n",
    "\n",
    "class CN():\n",
    "    def capital(self):\n",
    "        print(\"北京是中国的首都。Běijīng shì zhōngguó de shǒudū.\")\n",
    "        \n",
    "    def bahasa(self):\n",
    "        print(\"汉语是中国的主要语言。Hànyǔ shì zhōngguó de zhǔyào yǔyán.\")\n",
    "        \n",
    "    def type(self):\n",
    "            print(\"中国是发达国家。Zhōngguó shì fādá guójiā.\")\n",
    "\n",
    "obj_indo = INA()\n",
    "obj_china = CN()\n",
    "for country in (obj_indo, obj_china):\n",
    "    print(\"\")\n",
    "    country.capital()\n",
    "    country.bahasa()\n",
    "    country.type()"
   ]
  },
  {
   "cell_type": "markdown",
   "id": "3657f3ad",
   "metadata": {},
   "source": [
    "# Tugas OOP"
   ]
  },
  {
   "cell_type": "code",
   "execution_count": 8,
   "id": "103ce1a6",
   "metadata": {},
   "outputs": [],
   "source": [
    "import tugas_oop as fo"
   ]
  },
  {
   "cell_type": "code",
   "execution_count": 9,
   "id": "57c5924a",
   "metadata": {},
   "outputs": [
    {
     "name": "stdout",
     "output_type": "stream",
     "text": [
      "Nama Mahasiswa : Ilyas Dinar Lokajaya\n",
      "Universitas Yarsi\n",
      "\n",
      "Nama Mahasiswa : Shakila Ratu Pratiwi\n",
      "Universitas Indonesia\n",
      "\n",
      "\n",
      "Jumlah Mahasiswa : 2\n"
     ]
    }
   ],
   "source": [
    "fo.mahasiswa1.profil()\n",
    "fo.mahasiswa2.profil()\n",
    "fo.mahasiswa1.jumlah()"
   ]
  },
  {
   "cell_type": "code",
   "execution_count": 10,
   "id": "254f4986",
   "metadata": {},
   "outputs": [
    {
     "name": "stdout",
     "output_type": "stream",
     "text": [
      "Push rank kuy!\n"
     ]
    }
   ],
   "source": [
    "fo.rank(10)"
   ]
  },
  {
   "cell_type": "code",
   "execution_count": 11,
   "id": "b77aa294",
   "metadata": {},
   "outputs": [
    {
     "data": {
      "text/plain": [
       "21"
      ]
     },
     "execution_count": 11,
     "metadata": {},
     "output_type": "execute_result"
    }
   ],
   "source": [
    "fo.perkalian()"
   ]
  },
  {
   "cell_type": "code",
   "execution_count": 12,
   "id": "ce8ef715",
   "metadata": {},
   "outputs": [
    {
     "data": {
      "text/plain": [
       "125"
      ]
     },
     "execution_count": 12,
     "metadata": {},
     "output_type": "execute_result"
    }
   ],
   "source": [
    "fo.perpangkatan()"
   ]
  }
 ],
 "metadata": {
  "kernelspec": {
   "display_name": "Python 3 (ipykernel)",
   "language": "python",
   "name": "python3"
  },
  "language_info": {
   "codemirror_mode": {
    "name": "ipython",
    "version": 3
   },
   "file_extension": ".py",
   "mimetype": "text/x-python",
   "name": "python",
   "nbconvert_exporter": "python",
   "pygments_lexer": "ipython3",
   "version": "3.9.7"
  }
 },
 "nbformat": 4,
 "nbformat_minor": 5
}
